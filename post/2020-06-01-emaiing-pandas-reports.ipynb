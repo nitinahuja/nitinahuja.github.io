{
 "cells": [
  {
   "cell_type": "markdown",
   "metadata": {},
   "source": [
    "# Email Pandas report summary\n",
    "\n",
    "Ad-hoc reporting is something we've all had to do; there are many BI and reporting packages that allow one to build dashboards and visualize data.\n",
    "Most packages will also have features that let you schedule and email these reports. There are always times when you need something ad-hoc or slightly complex that is not possible via your reporting system.\n",
    "\n",
    "For those special moments, here is a quick note on how to go about formatting a Pandas dataframe and sending it as an email.\n",
    "\n",
    "Let's start by creating a dataframe. We'll use a MultiIndex to create a slightly more real-world example.\n",
    "\n"
   ]
  },
  {
   "cell_type": "code",
   "execution_count": null,
   "metadata": {},
   "outputs": [],
   "source": [
    "import pandas as pd\n"
   ]
  }
 ],
 "metadata": {
  "kernelspec": {
   "display_name": "Python 3",
   "language": "python",
   "name": "python3"
  },
  "language_info": {
   "codemirror_mode": {
    "name": "ipython",
    "version": 3
   },
   "file_extension": ".py",
   "mimetype": "text/x-python",
   "name": "python",
   "nbconvert_exporter": "python",
   "pygments_lexer": "ipython3",
   "version": "3.7.7"
  }
 },
 "nbformat": 4,
 "nbformat_minor": 4
}
